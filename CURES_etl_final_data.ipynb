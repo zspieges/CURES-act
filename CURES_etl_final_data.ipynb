{
 "cells": [
  {
   "cell_type": "code",
   "execution_count": 1,
   "id": "11a4874d",
   "metadata": {},
   "outputs": [],
   "source": [
    "import sys\n",
    "import os\n",
    "from pathlib import Path\n",
    "import pandas as pd\n",
    "import ibm_db\n",
    "import ibm_db_sa\n",
    "import sqlalchemy\n",
    "from sqlalchemy import create_engine\n",
    "from sqlalchemy.engine.url import URL\n",
    "from sqlalchemy.sql import text as sa_text\n",
    "import pyodbc\n",
    "from minio import Minio\n",
    "import urllib3\n",
    "from io import BytesIO\n",
    "\n",
    "pd.options.mode.chained_assignment = None  # default='warn'\n",
    "pd.options.display.float_format = '{:20,.2f}'.format"
   ]
  },
  {
   "cell_type": "code",
   "execution_count": 2,
   "id": "3f9eebe9",
   "metadata": {},
   "outputs": [],
   "source": [
    "os.chdir('C:\\\\Users\\\\spiegez\\\\OneDrive - Memorial Sloan Kettering Cancer Center\\\\Github\\\\Research')\n",
    "logins = pd.read_csv('logins.csv')"
   ]
  },
  {
   "cell_type": "code",
   "execution_count": 3,
   "id": "09048ae6",
   "metadata": {},
   "outputs": [],
   "source": [
    "ACCESS_KEY = logins.username[2]\n",
    "SECRET_KEY = logins.pw[2]\n",
    "\n",
    "\n",
    "httpClient = urllib3.PoolManager(\n",
    "                cert_reqs='CERT_REQUIRED',\n",
    "                ca_certs='certificate.crt'\n",
    "            )\n",
    "\n",
    "client = Minio(\n",
    "    \"tllihpcmind6:9000\",\n",
    "    access_key=ACCESS_KEY,\n",
    "    secret_key=SECRET_KEY,\n",
    "    secure=True,\n",
    "    http_client=httpClient\n",
    ")"
   ]
  },
  {
   "cell_type": "code",
   "execution_count": 4,
   "id": "40413eef",
   "metadata": {},
   "outputs": [],
   "source": [
    "res = client.get_object('acir',\"CURES/CURES_active_patient\")\n",
    "\n",
    "pt_act = pd.read_parquet(BytesIO(res.data))"
   ]
  },
  {
   "cell_type": "code",
   "execution_count": 5,
   "id": "acf0d4eb",
   "metadata": {},
   "outputs": [],
   "source": [
    "res1 = client.get_object('acir',\"CURES/CURES_portal_active_patient\")\n",
    "\n",
    "port_act = pd.read_parquet(BytesIO(res1.data))"
   ]
  },
  {
   "cell_type": "code",
   "execution_count": 6,
   "id": "1ccd2aa8",
   "metadata": {},
   "outputs": [],
   "source": [
    "res3 = client.get_object('acir',\"CURES/CURES_portal_reports_read\")\n",
    "\n",
    "reports = pd.read_parquet(BytesIO(res3.data))"
   ]
  },
  {
   "cell_type": "code",
   "execution_count": 7,
   "id": "3af22be6",
   "metadata": {},
   "outputs": [],
   "source": [
    "res4 = client.get_object('acir',\"CURES/CURES_portal_psms_sent\")\n",
    "\n",
    "psms = pd.read_parquet(BytesIO(res4.data))"
   ]
  },
  {
   "cell_type": "code",
   "execution_count": 14,
   "id": "5bc8ca77",
   "metadata": {},
   "outputs": [],
   "source": [
    "res5 = client.get_object('acir',\"CURES/CURES_demographic\")\n",
    "\n",
    "demo = pd.read_parquet(BytesIO(res5.data))"
   ]
  },
  {
   "cell_type": "code",
   "execution_count": 15,
   "id": "42b7bef2",
   "metadata": {},
   "outputs": [],
   "source": [
    "res6 = client.get_object('acir',\"CURES/CURES_account_created\")\n",
    "\n",
    "act_cr = pd.read_parquet(BytesIO(res6.data))"
   ]
  },
  {
   "cell_type": "code",
   "execution_count": 17,
   "id": "6693c61d",
   "metadata": {},
   "outputs": [],
   "source": [
    "pt_act['mrn'] =  pd.to_numeric(pt_act['mrn'], errors='coerce')\n",
    "port_act['mrn'] =  pd.to_numeric(port_act['mrn'], errors='coerce')\n",
    "psms['mrn'] =  pd.to_numeric(psms['mrn'], errors='coerce')\n",
    "reports['mrn'] =  pd.to_numeric(reports['mrn'], errors='coerce')\n",
    "\n",
    "demo['mrn'] =  pd.to_numeric(demo['mrn'], errors='coerce')\n",
    "act_cr['mrn'] =  pd.to_numeric(act_cr['mrn'], errors='coerce')\n",
    "all_reps['mrn'] =  pd.to_numeric(all_reps['mrn'], errors='coerce')"
   ]
  },
  {
   "cell_type": "code",
   "execution_count": 18,
   "id": "ebd7f348",
   "metadata": {},
   "outputs": [],
   "source": [
    "act = pt_act.merge(port_act, on=['mrn','week'],how='left')\n",
    "\n",
    "#because i cannot figure out the formatting of those mrns (i.e. trim then drop nulls dosent work)\n",
    "act = act.dropna(subset=['mrn']).reset_index(drop=True)"
   ]
  },
  {
   "cell_type": "code",
   "execution_count": 23,
   "id": "082fb4f9",
   "metadata": {},
   "outputs": [],
   "source": [
    "df1 = act.merge(psms, on=['mrn','week'],how='left')\n",
    "df1 = df1.merge(reports, on=['mrn','week'],how='left')\n",
    "\n",
    "df1 = df1.drop_duplicates().reset_index(drop=True)\n",
    "df1 = df1.dropna(subset=['mrn']).reset_index(drop=True)"
   ]
  },
  {
   "cell_type": "code",
   "execution_count": 24,
   "id": "21121a7c",
   "metadata": {},
   "outputs": [],
   "source": [
    "os.chdir('C:\\\\Users\\\\spiegez\\\\OneDrive - Memorial Sloan Kettering Cancer Center\\\\Documents\\\\Research\\\\CURES')\n",
    "year_adj = pd.read_csv('CURES_biostats_year_adjust_table.csv')\n",
    "\n",
    "year_adj['week_text'] = year_adj['start date'].astype(str) + ' - ' + year_adj['end date'].astype(str) \n",
    "year_adj = year_adj.drop(columns=['start date', 'start doy', 'year', 'end date', 'end doy', 'year.1'])"
   ]
  },
  {
   "cell_type": "code",
   "execution_count": 26,
   "id": "ce679e8f",
   "metadata": {},
   "outputs": [],
   "source": [
    "dfa = df1.merge(all_reps, on=['mrn','week'],how='left')\n",
    "df = dfa.merge(year_adj, on = 'week', how='left')\n",
    "\n",
    "df['ActiveUserFlag'] = df['ActiveUserFlag'].fillna('N')\n",
    "df['activepatientflag'] = df['activepatientflag'].fillna('N')\n",
    "df['NumLoginDays'] = df['NumLoginDays'].fillna(0)\n",
    "df['NumPSMsSent'] = df['NumPSMsSent'].fillna(0)\n",
    "df['NumReportsRead'] = df['NumReportsRead'].fillna(0)\n",
    "df['NumReportsPosted'] = df['NumReportsPosted'].fillna(0)\n",
    "\n",
    "df = df.drop_duplicates().reset_index(drop=True)"
   ]
  },
  {
   "cell_type": "code",
   "execution_count": 27,
   "id": "4e2543ee",
   "metadata": {},
   "outputs": [],
   "source": [
    "##QC"
   ]
  },
  {
   "cell_type": "code",
   "execution_count": 28,
   "id": "694aa2d5",
   "metadata": {},
   "outputs": [
    {
     "data": {
      "text/plain": [
       "1372000"
      ]
     },
     "execution_count": 28,
     "metadata": {},
     "output_type": "execute_result"
    }
   ],
   "source": [
    "len(df.index)"
   ]
  },
  {
   "cell_type": "code",
   "execution_count": 29,
   "id": "dd413dbe",
   "metadata": {},
   "outputs": [
    {
     "name": "stdout",
     "output_type": "stream",
     "text": [
      "Empty DataFrame\n",
      "Columns: [mrn, week, activepatientflag, ActiveUserFlag, NumLoginDays, NumPSMsSent, NumReportsRead, NumReportsPosted, week_text]\n",
      "Index: []\n"
     ]
    }
   ],
   "source": [
    "print(df.loc[((df['ActiveUserFlag'] == 'N') & (df['NumLoginDays']> 0))])"
   ]
  },
  {
   "cell_type": "code",
   "execution_count": 18,
   "id": "4076ce28",
   "metadata": {},
   "outputs": [
    {
     "name": "stdout",
     "output_type": "stream",
     "text": [
      "Empty DataFrame\n",
      "Columns: [mrn, week, activepatientflag, ActiveUserFlag, NumLoginDays, NumPSMsSent, NumReportsRead, week_text]\n",
      "Index: []\n"
     ]
    }
   ],
   "source": [
    "print(df.loc[((df['ActiveUserFlag'] == 'N') & (df['NumReportsRead']> 0))])"
   ]
  },
  {
   "cell_type": "code",
   "execution_count": 19,
   "id": "34d9d988",
   "metadata": {
    "scrolled": true
   },
   "outputs": [
    {
     "name": "stdout",
     "output_type": "stream",
     "text": [
      "Empty DataFrame\n",
      "Columns: [mrn, week, activepatientflag, ActiveUserFlag, NumLoginDays, NumPSMsSent, NumReportsRead, week_text]\n",
      "Index: []\n"
     ]
    }
   ],
   "source": [
    "print(df.loc[((df['ActiveUserFlag'] == 'Y') & (df['NumLoginDays'] == 0))])"
   ]
  },
  {
   "cell_type": "code",
   "execution_count": 24,
   "id": "4256452e",
   "metadata": {},
   "outputs": [],
   "source": [
    "df.to_csv('biostats_CURES_weekly_act_dataset.csv')"
   ]
  },
  {
   "cell_type": "code",
   "execution_count": 21,
   "id": "5da59cf1",
   "metadata": {},
   "outputs": [],
   "source": [
    "mrns = act['mrn'].to_frame()\n",
    "mrns = mrns.drop_duplicates().reset_index(drop=True)"
   ]
  },
  {
   "cell_type": "code",
   "execution_count": 22,
   "id": "906b0391",
   "metadata": {},
   "outputs": [],
   "source": [
    "demo_fin = mrns.merge(demo, on=['mrn'],how='left')\n",
    "demo_fin = demo_fin.merge(act_cr, on=['mrn'],how='left')"
   ]
  },
  {
   "cell_type": "code",
   "execution_count": 23,
   "id": "493a61bc",
   "metadata": {},
   "outputs": [],
   "source": [
    "demo_fin.to_csv('biostats_CURES_demographic_dataset.csv')"
   ]
  },
  {
   "cell_type": "code",
   "execution_count": null,
   "id": "ed4ddf35",
   "metadata": {},
   "outputs": [],
   "source": []
  }
 ],
 "metadata": {
  "kernelspec": {
   "display_name": "Python 3 (ipykernel)",
   "language": "python",
   "name": "python3"
  },
  "language_info": {
   "codemirror_mode": {
    "name": "ipython",
    "version": 3
   },
   "file_extension": ".py",
   "mimetype": "text/x-python",
   "name": "python",
   "nbconvert_exporter": "python",
   "pygments_lexer": "ipython3",
   "version": "3.9.12"
  }
 },
 "nbformat": 4,
 "nbformat_minor": 5
}
